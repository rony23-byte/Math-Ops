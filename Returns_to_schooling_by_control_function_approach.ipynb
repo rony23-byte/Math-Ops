{
  "nbformat": 4,
  "nbformat_minor": 0,
  "metadata": {
    "colab": {
      "provenance": [],
      "authorship_tag": "ABX9TyM61foUz0dvV/1geHzCGmZE",
      "include_colab_link": true
    },
    "kernelspec": {
      "name": "python3",
      "display_name": "Python 3"
    },
    "language_info": {
      "name": "python"
    }
  },
  "cells": [
    {
      "cell_type": "markdown",
      "metadata": {
        "id": "view-in-github",
        "colab_type": "text"
      },
      "source": [
        "<a href=\"https://colab.research.google.com/github/rony23-byte/Math-Ops/blob/main/Returns_to_schooling_by_control_function_approach.ipynb\" target=\"_parent\"><img src=\"https://colab.research.google.com/assets/colab-badge.svg\" alt=\"Open In Colab\"/></a>"
      ]
    },
    {
      "cell_type": "markdown",
      "source": [],
      "metadata": {
        "id": "C09sHTEkFX8e"
      }
    },
    {
      "cell_type": "markdown",
      "source": [
        "We will first of all start by importing the necessary libraries to help us explore our dataset and see how we could perform feature scaling\n"
      ],
      "metadata": {
        "id": "w0hRDSxsFbNG"
      }
    },
    {
      "cell_type": "code",
      "source": [
        "import numpy as np \n",
        "import pandas as pd\n",
        "import matplotlib.pyplot as plt\n",
        "import seaborn as sns\n",
        "import scipy.io\n",
        "from sklearn.linear_model import LinearRegression"
      ],
      "metadata": {
        "id": "RFzN7SY2FlsQ"
      },
      "execution_count": 1,
      "outputs": []
    },
    {
      "cell_type": "markdown",
      "source": [
        "Let us move to reading our dataset, perform feature scaling and data manipulation\n"
      ],
      "metadata": {
        "id": "JCFXT3iPGzDb"
      }
    },
    {
      "cell_type": "code",
      "source": [
        "from scipy.io import loadmat\n",
        " \n",
        "data = loadmat('/content/th2 (1) (2).mat')\n",
        "print(data)"
      ],
      "metadata": {
        "colab": {
          "base_uri": "https://localhost:8080/"
        },
        "id": "rHjAWrazG7im",
        "outputId": "27ab39a1-f77f-415a-b22d-ac35e72ca9ac"
      },
      "execution_count": 2,
      "outputs": [
        {
          "output_type": "stream",
          "name": "stdout",
          "text": [
            "{'__header__': b'MATLAB 5.0 MAT-file, Platform: PCWIN64, Created on: Mon Jan 12 14:40:11 2015', '__version__': '1.0', '__globals__': [], 'LNLOHN': array([[3.36345696],\n",
            "       [2.74727082],\n",
            "       [2.54374719],\n",
            "       ...,\n",
            "       [2.32727766],\n",
            "       [2.07944155],\n",
            "       [2.07944155]]), 'BILZEIT': array([[15. ],\n",
            "       [10.5],\n",
            "       [14.5],\n",
            "       ...,\n",
            "       [10.5],\n",
            "       [11. ],\n",
            "       [10. ]]), 'ALQ': array([[0.60000002],\n",
            "       [0.60000002],\n",
            "       [0.60000002],\n",
            "       ...,\n",
            "       [7.9000001 ],\n",
            "       [7.9000001 ],\n",
            "       [8.69999981]]), 'ALTER': array([[47],\n",
            "       [47],\n",
            "       [47],\n",
            "       ...,\n",
            "       [20],\n",
            "       [20],\n",
            "       [19]], dtype=uint8), 'ANZBR': array([[0],\n",
            "       [1],\n",
            "       [0],\n",
            "       ...,\n",
            "       [2],\n",
            "       [1],\n",
            "       [0]], dtype=uint8), 'KHGROSS': array([[1],\n",
            "       [1],\n",
            "       [0],\n",
            "       ...,\n",
            "       [0],\n",
            "       [0],\n",
            "       [0]], dtype=uint8), 'KHKLEIN': array([[0],\n",
            "       [0],\n",
            "       [0],\n",
            "       ...,\n",
            "       [0],\n",
            "       [1],\n",
            "       [0]], dtype=uint8), 'KHMITTEL': array([[0],\n",
            "       [0],\n",
            "       [0],\n",
            "       ...,\n",
            "       [0],\n",
            "       [0],\n",
            "       [0]], dtype=uint8), 'ANZSCH': array([[1],\n",
            "       [0],\n",
            "       [2],\n",
            "       ...,\n",
            "       [1],\n",
            "       [0],\n",
            "       [0]], dtype=uint8), 'FLAECHEGYM': array([[ 12.69999981],\n",
            "       [ 12.69999981],\n",
            "       [ 12.69999981],\n",
            "       ...,\n",
            "       [178.6151886 ],\n",
            "       [178.6151886 ],\n",
            "       [178.6151886 ]])}\n"
          ]
        }
      ]
    },
    {
      "cell_type": "markdown",
      "source": [
        "\n",
        "\n",
        "```\n",
        "# This is formatted as code\n",
        "Doing conversion from .mat to .csv"
      ],
      "metadata": {
        "id": "Tu1LA5hLw296"
      }
    },
    {
      "cell_type": "markdown",
      "source": [],
      "metadata": {
        "id": "Fp-Q-89NR-Ri"
      }
    },
    {
      "cell_type": "code",
      "source": [
        "cols=[]\n",
        "for i in data:\n",
        "    if '__' not in i :\n",
        "       cols.append(i)\n",
        "temp_df=pd.DataFrame(columns=cols)\n",
        "for i in data:\n",
        "    if '__' not in i :\n",
        "       temp_df[i]=(data[i]).ravel()"
      ],
      "metadata": {
        "id": "757bMbsZiQjb"
      },
      "execution_count": 4,
      "outputs": []
    },
    {
      "cell_type": "code",
      "source": [
        "temp_df.to_csv(r'/content/Data', index=False)"
      ],
      "metadata": {
        "id": "TXtqFm0YUPJe"
      },
      "execution_count": 5,
      "outputs": []
    },
    {
      "cell_type": "markdown",
      "source": [],
      "metadata": {
        "id": "bCHeEykyU91q"
      }
    },
    {
      "cell_type": "code",
      "source": [
        "Dataa=pd.read_csv('/content/Data')\n",
        "Dataa.head()"
      ],
      "metadata": {
        "colab": {
          "base_uri": "https://localhost:8080/",
          "height": 270
        },
        "id": "ka_mNMi8xh2b",
        "outputId": "9ba65f85-78ce-4567-d601-abe517d082d3"
      },
      "execution_count": 6,
      "outputs": [
        {
          "output_type": "execute_result",
          "data": {
            "text/plain": [
              "     LNLOHN  BILZEIT  ALQ  ALTER  ANZBR  KHGROSS  KHKLEIN  KHMITTEL  ANZSCH  \\\n",
              "0  3.363457     15.0  0.6     47      0        1        0         0       1   \n",
              "1  2.747271     10.5  0.6     47      1        1        0         0       0   \n",
              "2  2.543747     14.5  0.6     47      0        0        0         0       2   \n",
              "3  3.251079     18.0  0.6     47      0        1        0         0       1   \n",
              "4  3.526361     18.0  0.6     46      1        0        0         1       1   \n",
              "\n",
              "   FLAECHEGYM  \n",
              "0        12.7  \n",
              "1        12.7  \n",
              "2        12.7  \n",
              "3        12.7  \n",
              "4        12.7  "
            ],
            "text/html": [
              "\n",
              "  <div id=\"df-19f2e868-90d7-4d23-812c-831b176bad33\">\n",
              "    <div class=\"colab-df-container\">\n",
              "      <div>\n",
              "<style scoped>\n",
              "    .dataframe tbody tr th:only-of-type {\n",
              "        vertical-align: middle;\n",
              "    }\n",
              "\n",
              "    .dataframe tbody tr th {\n",
              "        vertical-align: top;\n",
              "    }\n",
              "\n",
              "    .dataframe thead th {\n",
              "        text-align: right;\n",
              "    }\n",
              "</style>\n",
              "<table border=\"1\" class=\"dataframe\">\n",
              "  <thead>\n",
              "    <tr style=\"text-align: right;\">\n",
              "      <th></th>\n",
              "      <th>LNLOHN</th>\n",
              "      <th>BILZEIT</th>\n",
              "      <th>ALQ</th>\n",
              "      <th>ALTER</th>\n",
              "      <th>ANZBR</th>\n",
              "      <th>KHGROSS</th>\n",
              "      <th>KHKLEIN</th>\n",
              "      <th>KHMITTEL</th>\n",
              "      <th>ANZSCH</th>\n",
              "      <th>FLAECHEGYM</th>\n",
              "    </tr>\n",
              "  </thead>\n",
              "  <tbody>\n",
              "    <tr>\n",
              "      <th>0</th>\n",
              "      <td>3.363457</td>\n",
              "      <td>15.0</td>\n",
              "      <td>0.6</td>\n",
              "      <td>47</td>\n",
              "      <td>0</td>\n",
              "      <td>1</td>\n",
              "      <td>0</td>\n",
              "      <td>0</td>\n",
              "      <td>1</td>\n",
              "      <td>12.7</td>\n",
              "    </tr>\n",
              "    <tr>\n",
              "      <th>1</th>\n",
              "      <td>2.747271</td>\n",
              "      <td>10.5</td>\n",
              "      <td>0.6</td>\n",
              "      <td>47</td>\n",
              "      <td>1</td>\n",
              "      <td>1</td>\n",
              "      <td>0</td>\n",
              "      <td>0</td>\n",
              "      <td>0</td>\n",
              "      <td>12.7</td>\n",
              "    </tr>\n",
              "    <tr>\n",
              "      <th>2</th>\n",
              "      <td>2.543747</td>\n",
              "      <td>14.5</td>\n",
              "      <td>0.6</td>\n",
              "      <td>47</td>\n",
              "      <td>0</td>\n",
              "      <td>0</td>\n",
              "      <td>0</td>\n",
              "      <td>0</td>\n",
              "      <td>2</td>\n",
              "      <td>12.7</td>\n",
              "    </tr>\n",
              "    <tr>\n",
              "      <th>3</th>\n",
              "      <td>3.251079</td>\n",
              "      <td>18.0</td>\n",
              "      <td>0.6</td>\n",
              "      <td>47</td>\n",
              "      <td>0</td>\n",
              "      <td>1</td>\n",
              "      <td>0</td>\n",
              "      <td>0</td>\n",
              "      <td>1</td>\n",
              "      <td>12.7</td>\n",
              "    </tr>\n",
              "    <tr>\n",
              "      <th>4</th>\n",
              "      <td>3.526361</td>\n",
              "      <td>18.0</td>\n",
              "      <td>0.6</td>\n",
              "      <td>46</td>\n",
              "      <td>1</td>\n",
              "      <td>0</td>\n",
              "      <td>0</td>\n",
              "      <td>1</td>\n",
              "      <td>1</td>\n",
              "      <td>12.7</td>\n",
              "    </tr>\n",
              "  </tbody>\n",
              "</table>\n",
              "</div>\n",
              "      <button class=\"colab-df-convert\" onclick=\"convertToInteractive('df-19f2e868-90d7-4d23-812c-831b176bad33')\"\n",
              "              title=\"Convert this dataframe to an interactive table.\"\n",
              "              style=\"display:none;\">\n",
              "        \n",
              "  <svg xmlns=\"http://www.w3.org/2000/svg\" height=\"24px\"viewBox=\"0 0 24 24\"\n",
              "       width=\"24px\">\n",
              "    <path d=\"M0 0h24v24H0V0z\" fill=\"none\"/>\n",
              "    <path d=\"M18.56 5.44l.94 2.06.94-2.06 2.06-.94-2.06-.94-.94-2.06-.94 2.06-2.06.94zm-11 1L8.5 8.5l.94-2.06 2.06-.94-2.06-.94L8.5 2.5l-.94 2.06-2.06.94zm10 10l.94 2.06.94-2.06 2.06-.94-2.06-.94-.94-2.06-.94 2.06-2.06.94z\"/><path d=\"M17.41 7.96l-1.37-1.37c-.4-.4-.92-.59-1.43-.59-.52 0-1.04.2-1.43.59L10.3 9.45l-7.72 7.72c-.78.78-.78 2.05 0 2.83L4 21.41c.39.39.9.59 1.41.59.51 0 1.02-.2 1.41-.59l7.78-7.78 2.81-2.81c.8-.78.8-2.07 0-2.86zM5.41 20L4 18.59l7.72-7.72 1.47 1.35L5.41 20z\"/>\n",
              "  </svg>\n",
              "      </button>\n",
              "      \n",
              "  <style>\n",
              "    .colab-df-container {\n",
              "      display:flex;\n",
              "      flex-wrap:wrap;\n",
              "      gap: 12px;\n",
              "    }\n",
              "\n",
              "    .colab-df-convert {\n",
              "      background-color: #E8F0FE;\n",
              "      border: none;\n",
              "      border-radius: 50%;\n",
              "      cursor: pointer;\n",
              "      display: none;\n",
              "      fill: #1967D2;\n",
              "      height: 32px;\n",
              "      padding: 0 0 0 0;\n",
              "      width: 32px;\n",
              "    }\n",
              "\n",
              "    .colab-df-convert:hover {\n",
              "      background-color: #E2EBFA;\n",
              "      box-shadow: 0px 1px 2px rgba(60, 64, 67, 0.3), 0px 1px 3px 1px rgba(60, 64, 67, 0.15);\n",
              "      fill: #174EA6;\n",
              "    }\n",
              "\n",
              "    [theme=dark] .colab-df-convert {\n",
              "      background-color: #3B4455;\n",
              "      fill: #D2E3FC;\n",
              "    }\n",
              "\n",
              "    [theme=dark] .colab-df-convert:hover {\n",
              "      background-color: #434B5C;\n",
              "      box-shadow: 0px 1px 3px 1px rgba(0, 0, 0, 0.15);\n",
              "      filter: drop-shadow(0px 1px 2px rgba(0, 0, 0, 0.3));\n",
              "      fill: #FFFFFF;\n",
              "    }\n",
              "  </style>\n",
              "\n",
              "      <script>\n",
              "        const buttonEl =\n",
              "          document.querySelector('#df-19f2e868-90d7-4d23-812c-831b176bad33 button.colab-df-convert');\n",
              "        buttonEl.style.display =\n",
              "          google.colab.kernel.accessAllowed ? 'block' : 'none';\n",
              "\n",
              "        async function convertToInteractive(key) {\n",
              "          const element = document.querySelector('#df-19f2e868-90d7-4d23-812c-831b176bad33');\n",
              "          const dataTable =\n",
              "            await google.colab.kernel.invokeFunction('convertToInteractive',\n",
              "                                                     [key], {});\n",
              "          if (!dataTable) return;\n",
              "\n",
              "          const docLinkHtml = 'Like what you see? Visit the ' +\n",
              "            '<a target=\"_blank\" href=https://colab.research.google.com/notebooks/data_table.ipynb>data table notebook</a>'\n",
              "            + ' to learn more about interactive tables.';\n",
              "          element.innerHTML = '';\n",
              "          dataTable['output_type'] = 'display_data';\n",
              "          await google.colab.output.renderOutput(dataTable, element);\n",
              "          const docLink = document.createElement('div');\n",
              "          docLink.innerHTML = docLinkHtml;\n",
              "          element.appendChild(docLink);\n",
              "        }\n",
              "      </script>\n",
              "    </div>\n",
              "  </div>\n",
              "  "
            ]
          },
          "metadata": {},
          "execution_count": 6
        }
      ]
    },
    {
      "cell_type": "markdown",
      "source": [
        " Doing a selection for both the x and y variable"
      ],
      "metadata": {
        "id": "odE0NWhwnhfe"
      }
    },
    {
      "cell_type": "code",
      "source": [
        "  #selecting the x and y variable   for our model\n",
        "  x=Dataa[['BILZEIT','ALTER']]\n",
        "  y=Dataa['LNLOHN']"
      ],
      "metadata": {
        "id": "2SbH-Bwrx19C"
      },
      "execution_count": 7,
      "outputs": []
    },
    {
      "cell_type": "markdown",
      "source": [
        "Estimate the Model(1) by OLs .Report estimated parameters and ols standard errors"
      ],
      "metadata": {
        "id": "T9fQ89pvMZDy"
      }
    },
    {
      "cell_type": "code",
      "source": [
        "import statsmodels.api as sm\n",
        "model=sm.OLS(y,x)\n",
        "results=model.fit()\n",
        "print(results.summary())"
      ],
      "metadata": {
        "colab": {
          "base_uri": "https://localhost:8080/"
        },
        "id": "R-4bVUNsKbdo",
        "outputId": "0ea2aa4a-1535-45ed-ba41-7f6893291ce6"
      },
      "execution_count": 8,
      "outputs": [
        {
          "output_type": "stream",
          "name": "stdout",
          "text": [
            "                                 OLS Regression Results                                \n",
            "=======================================================================================\n",
            "Dep. Variable:                 LNLOHN   R-squared (uncentered):                   0.982\n",
            "Model:                            OLS   Adj. R-squared (uncentered):              0.982\n",
            "Method:                 Least Squares   F-statistic:                          4.721e+04\n",
            "Date:                Mon, 30 Jan 2023   Prob (F-statistic):                        0.00\n",
            "Time:                        11:31:46   Log-Likelihood:                         -578.22\n",
            "No. Observations:                1711   AIC:                                      1160.\n",
            "Df Residuals:                    1709   BIC:                                      1171.\n",
            "Df Model:                           2                                                  \n",
            "Covariance Type:            nonrobust                                                  \n",
            "==============================================================================\n",
            "                 coef    std err          t      P>|t|      [0.025      0.975]\n",
            "------------------------------------------------------------------------------\n",
            "BILZEIT        0.0962      0.002     38.870      0.000       0.091       0.101\n",
            "ALTER          0.0349      0.001     41.691      0.000       0.033       0.037\n",
            "==============================================================================\n",
            "Omnibus:                      123.963   Durbin-Watson:                   1.729\n",
            "Prob(Omnibus):                  0.000   Jarque-Bera (JB):              549.447\n",
            "Skew:                          -0.171   Prob(JB):                    4.89e-120\n",
            "Kurtosis:                       5.755   Cond. No.                         12.6\n",
            "==============================================================================\n",
            "\n",
            "Notes:\n",
            "[1] R² is computed without centering (uncentered) since the model does not contain a constant.\n",
            "[2] Standard Errors assume that the covariance matrix of the errors is correctly specified.\n"
          ]
        }
      ]
    },
    {
      "cell_type": "markdown",
      "source": [],
      "metadata": {
        "id": "OP0QP82paxKj"
      }
    },
    {
      "cell_type": "code",
      "source": [
        "#reporting on the estimated parameters\n",
        "params=results.params\n",
        "print(params)\n",
        "#report on the OLS standard errors\n",
        "se=results.bse\n",
        "print(se)\n",
        "  "
      ],
      "metadata": {
        "colab": {
          "base_uri": "https://localhost:8080/"
        },
        "id": "siSHxhYfN3HV",
        "outputId": "66516e2f-6fa5-4d4f-bd5f-595274dafaae"
      },
      "execution_count": 9,
      "outputs": [
        {
          "output_type": "stream",
          "name": "stdout",
          "text": [
            "BILZEIT    0.096235\n",
            "ALTER      0.034939\n",
            "dtype: float64\n",
            "BILZEIT    0.002476\n",
            "ALTER      0.000838\n",
            "dtype: float64\n"
          ]
        }
      ]
    },
    {
      "cell_type": "markdown",
      "source": [
        "Non parametric bootstrap with 5000 *replications*"
      ],
      "metadata": {
        "id": "PgZUgYJ7Uvlp"
      }
    },
    {
      "cell_type": "code",
      "source": [
        "from sklearn.utils import resample\n",
        "model = LinearRegression()\n",
        "model.fit(x,y)\n",
        "# perform the bootstrap\n",
        "replications = 5000\n",
        "params_bs = np.zeros((replications, model.coef_.shape[0] + 1))\n",
        "for i in range(replications):\n",
        "    x_bs, y_bs = resample(x, y)\n",
        "    model.fit(x_bs, y_bs)\n",
        "    params_bs[i, :] = np.append(model.intercept_, model.coef_)\n",
        "\n",
        "# calculate the standard errors\n",
        "se = np.std(params_bs, axis=0)\n",
        "print(se)"
      ],
      "metadata": {
        "colab": {
          "base_uri": "https://localhost:8080/"
        },
        "id": "RojOIvRlONXf",
        "outputId": "d7b83c21-5faf-47b6-9778-943083841ce6"
      },
      "execution_count": 10,
      "outputs": [
        {
          "output_type": "stream",
          "name": "stdout",
          "text": [
            "[0.05592423 0.00289411 0.00123802]\n"
          ]
        }
      ]
    },
    {
      "cell_type": "code",
      "source": [
        " \n",
        "    \n",
        "# Compute the standard error\n",
        "se = np.std(replications, ddof=1)\n",
        "\n"
      ],
      "metadata": {
        "colab": {
          "base_uri": "https://localhost:8080/"
        },
        "id": "8k1GAEjYV9UT",
        "outputId": "2d8446a7-d339-4461-f877-7139cd6cde2f"
      },
      "execution_count": 11,
      "outputs": [
        {
          "output_type": "stream",
          "name": "stderr",
          "text": [
            "/usr/local/lib/python3.8/dist-packages/numpy/core/_methods.py:262: RuntimeWarning: Degrees of freedom <= 0 for slice\n",
            "  ret = _var(a, axis=axis, dtype=dtype, out=out, ddof=ddof,\n",
            "/usr/local/lib/python3.8/dist-packages/numpy/core/_methods.py:254: RuntimeWarning: invalid value encountered in double_scalars\n",
            "  ret = ret.dtype.type(ret / rcount)\n"
          ]
        }
      ]
    },
    {
      "cell_type": "code",
      "source": [
        "# Compute the 95% confidence bands\n",
        "from scipy.stats import mstats\n",
        "lower_bound,upper_bound=mstats.mquantiles(replications,prob=[0.025,0.975])\n",
        "print(\"95% Confidence interval: [{}, {}]\".format(lower_bound, upper_bound))\n",
        "                                      "
      ],
      "metadata": {
        "colab": {
          "base_uri": "https://localhost:8080/"
        },
        "id": "MXlgxMdmbZdU",
        "outputId": "2f9b193a-3205-447f-ab45-df6b5f54b55c"
      },
      "execution_count": 12,
      "outputs": [
        {
          "output_type": "stream",
          "name": "stdout",
          "text": [
            "95% Confidence interval: [5000, 5000]\n"
          ]
        }
      ]
    },
    {
      "cell_type": "markdown",
      "source": [
        "\n",
        "\n",
        "Using control function.\n",
        "First we have to perform data manipulation to be able to achieve this.\n",
        "\n"
      ],
      "metadata": {
        "id": "SSyEAZOjTAU-"
      }
    },
    {
      "cell_type": "code",
      "source": [
        "Dataa=Dataa.assign(DENS=Dataa['FLAECHEGYM']*Dataa['KHGROSS'],  URG=Dataa['ALQ']*Dataa['ALTER'],SIB=Dataa['ANZBR']*Dataa['ALTER'])"
      ],
      "metadata": {
        "id": "c6VriFY7S3lV"
      },
      "execution_count": 13,
      "outputs": []
    },
    {
      "cell_type": "code",
      "source": [
        "import statsmodels.api as sm\n",
        "\n",
        " #prepare the data\n",
        "x= Dataa[['BILZEIT','ALTER']]\n",
        "y = Dataa['LNLOHN']\n",
        "instruments =Dataa[['DENS','URG','SIB']]\n",
        "\n",
        "#  Estimate the model with Two-Stage Least Squares method with all insturments\n",
        "model = sm.OLS(y,x).fit()\n",
        "residuals=model.resid\n",
        "model=sm.OLS(x['BILZEIT'],instruments).fit()\n",
        "Dataa[\"predicted_BILZEIT\"] = model.predict(instruments)\n",
        "model = sm.OLS(x[\"ALTER\"], instruments).fit()\n",
        "Dataa[\"predicted_ALTER\"] = model.predict(instruments)\n",
        "\n",
        "model = sm.OLS(residuals, Dataa[[\"predicted_BILZEIT\", \"predicted_ALTER\"]]).fit()\n",
        "params = model.params\n",
        "model = sm.OLS(y, x).fit()\n",
        "model.params = params\n",
        "\n",
        "# Print summary of the linear model\n",
        "print(model.summary())\n",
        " \n",
        "\n",
        " \n"
      ],
      "metadata": {
        "colab": {
          "base_uri": "https://localhost:8080/"
        },
        "id": "d8XLaWuciOHT",
        "outputId": "0806a714-d094-493c-a282-7321ae40eb3b"
      },
      "execution_count": 14,
      "outputs": [
        {
          "output_type": "stream",
          "name": "stdout",
          "text": [
            "                                 OLS Regression Results                                \n",
            "=======================================================================================\n",
            "Dep. Variable:                 LNLOHN   R-squared (uncentered):                   0.982\n",
            "Model:                            OLS   Adj. R-squared (uncentered):              0.982\n",
            "Method:                 Least Squares   F-statistic:                          4.721e+04\n",
            "Date:                Mon, 30 Jan 2023   Prob (F-statistic):                        0.00\n",
            "Time:                        11:32:19   Log-Likelihood:                         -578.22\n",
            "No. Observations:                1711   AIC:                                      1160.\n",
            "Df Residuals:                    1709   BIC:                                      1171.\n",
            "Df Model:                           2                                                  \n",
            "Covariance Type:            nonrobust                                                  \n",
            "==============================================================================\n",
            "                 coef    std err          t      P>|t|      [0.025      0.975]\n",
            "------------------------------------------------------------------------------\n",
            "BILZEIT        0.0962      0.002     38.870      0.000       0.091       0.101\n",
            "ALTER          0.0349      0.001     41.691      0.000       0.033       0.037\n",
            "==============================================================================\n",
            "Omnibus:                      123.963   Durbin-Watson:                   1.729\n",
            "Prob(Omnibus):                  0.000   Jarque-Bera (JB):              549.447\n",
            "Skew:                          -0.171   Prob(JB):                    4.89e-120\n",
            "Kurtosis:                       5.755   Cond. No.                         12.6\n",
            "==============================================================================\n",
            "\n",
            "Notes:\n",
            "[1] R² is computed without centering (uncentered) since the model does not contain a constant.\n",
            "[2] Standard Errors assume that the covariance matrix of the errors is correctly specified.\n"
          ]
        }
      ]
    },
    {
      "cell_type": "code",
      "source": [
        "from os import X_OK\n",
        " #Standard errors for all CF approaches using non-parametric bootstrap\n",
        " # Define the control function approaches\n",
        "cf_approaches = [    {\"control_vars\": [\"DENS\"], \"BILZEIT\": \"BILZEIT\", \"ALTER\": \"ALTER\"},\n",
        "    {\"control_vars\": [\"URG\"], \"BILZEIT\": \"BILZEIT\", \"ALTER\": \"ALTER\"},\n",
        "    {\"control_vars\": [\"SIB\"], \"BILZEIT\": \"BILZEIT\", \"ALTER\": \"ALTER\"},\n",
        "    {\"control_vars\": [\"DENS\", \"URG\",\"SIB\"], \"BILZEIT\": \" BILZEIT\",\"ALTER\": \"ALTER\"},\n",
        "    {\"control_vars\": [], \"BILZEIT\": \"BILZEIT\", \"ALTER\": \"ALTER\"}\n",
        "]\n",
        "\n",
        "# Estimate standard errors for each CF approach using a nonparametric bootstrap\n",
        "n_bootstraps = 5000\n",
        "params = []\n",
        "se = []\n",
        "for approach in cf_approaches:\n",
        "    p = []\n",
        "    s = []\n",
        "    for i in range(n_bootstraps):\n",
        "        sample = Dataa.sample(Dataa.shape[0], replace=True)\n",
        "        x = sample[['BILZEIT','ALTER'] + approach[\"control_vars\"]]\n",
        "        y =sample['LNLOHN']\n",
        "        model = sm.OLS(y,x).fit()\n",
        "        p.append(model.params)\n",
        "        s.append(model.bse)\n",
        "    params.append(np.array(p))\n",
        "    se.append(np.array(s))\n",
        "\n",
        "# Print the average and standard deviation of the parameter estimates and standard errors\n",
        "for i, approach in enumerate(cf_approaches):\n",
        "    print(\"Control Function Approach:\", approach)\n",
        "    avg_params = np.mean(params[i], axis=0)\n",
        "    avg_se = np.mean(se[i], axis=0)\n",
        "    std_params = np.std(params[i], axis=0)\n",
        "    std_se = np.std(se[i], axis=0)\n",
        "    \n",
        "    print(\"Average Parameters:\", avg_params)\n",
        "    print(\"Standard Deviation of Parameters:\", std_params)\n",
        "    print(\"Average Standard Errors:\", avg_se)\n",
        "    print(\"Standard Deviation of Standard Errors:\", std_se)\n",
        "    print()\n",
        " \n",
        "\n",
        "\n",
        "\n",
        "\n",
        "\n"
      ],
      "metadata": {
        "id": "pFaK-xICmFls",
        "colab": {
          "base_uri": "https://localhost:8080/"
        },
        "outputId": "c2b38b7b-a5b0-400a-8ce0-45cd9c79e0b7"
      },
      "execution_count": 15,
      "outputs": [
        {
          "output_type": "stream",
          "name": "stdout",
          "text": [
            "Control Function Approach: {'control_vars': ['DENS'], 'BILZEIT': 'BILZEIT', 'ALTER': 'ALTER'}\n",
            "Average Parameters: [0.09607668 0.0349164  0.00013839]\n",
            "Standard Deviation of Parameters: [0.0025754  0.00083912 0.0001779 ]\n",
            "Average Standard Errors: [0.00248603 0.00083821 0.00015916]\n",
            "Standard Deviation of Standard Errors: [7.39865305e-05 2.44437656e-05 6.73028615e-06]\n",
            "\n",
            "Control Function Approach: {'control_vars': ['URG'], 'BILZEIT': 'BILZEIT', 'ALTER': 'ALTER'}\n",
            "Average Parameters: [0.07661136 0.03669328 0.00119705]\n",
            "Standard Deviation of Parameters: [2.79470547e-03 8.34174521e-04 7.93412144e-05]\n",
            "Average Standard Errors: [2.67078010e-03 7.96456741e-04 7.98795206e-05]\n",
            "Standard Deviation of Standard Errors: [8.19035930e-05 2.36302732e-05 2.55482774e-06]\n",
            "\n",
            "Control Function Approach: {'control_vars': ['SIB'], 'BILZEIT': 'BILZEIT', 'ALTER': 'ALTER'}\n",
            "Average Parameters: [ 0.09600616  0.03513079 -0.00011857]\n",
            "Standard Deviation of Parameters: [0.00264534 0.00092967 0.00019692]\n",
            "Average Standard Errors: [0.00251027 0.00089651 0.00018817]\n",
            "Standard Deviation of Standard Errors: [7.49489738e-05 2.63649153e-05 8.54031703e-06]\n",
            "\n",
            "Control Function Approach: {'control_vars': ['DENS', 'URG', 'SIB'], 'BILZEIT': ' BILZEIT', 'ALTER': 'ALTER'}\n",
            "Average Parameters: [ 0.07605518  0.03690941  0.00015687  0.00119856 -0.00012604]\n",
            "Standard Deviation of Parameters: [2.79146478e-03 8.69546625e-04 1.65082161e-04 7.82764521e-05\n",
            " 1.76423486e-04]\n",
            "Average Standard Errors: [2.70794623e-03 8.51487112e-04 1.49898489e-04 7.98389199e-05\n",
            " 1.77164707e-04]\n",
            "Standard Deviation of Standard Errors: [8.24448642e-05 2.53048924e-05 6.34381498e-06 2.50836566e-06\n",
            " 8.15710288e-06]\n",
            "\n",
            "Control Function Approach: {'control_vars': [], 'BILZEIT': 'BILZEIT', 'ALTER': 'ALTER'}\n",
            "Average Parameters: [0.0962187  0.03494668]\n",
            "Standard Deviation of Parameters: [0.00258746 0.00085158]\n",
            "Average Standard Errors: [0.00247337 0.00083709]\n",
            "Standard Deviation of Standard Errors: [7.26939909e-05 2.41650200e-05]\n",
            "\n"
          ]
        }
      ]
    },
    {
      "cell_type": "code",
      "source": [
        " import seaborn as sns\n",
        " import matplotlib.pyplot as plt\n",
        " corr=Dataa.corr()\n",
        " #create the heatmap\n",
        " sns.heatmap(corr,annot=True)\n",
        " #Show the PLOT\n",
        " plt.show()\n"
      ],
      "metadata": {
        "colab": {
          "base_uri": "https://localhost:8080/",
          "height": 349
        },
        "id": "UT-t7bh4NijO",
        "outputId": "41f20352-0d9d-4854-dc14-4fa122799d46"
      },
      "execution_count": 16,
      "outputs": [
        {
          "output_type": "display_data",
          "data": {
            "text/plain": [
              "<Figure size 432x288 with 2 Axes>"
            ],
            "image/png": "[encoded data removed]"
          },
          "metadata": {
            "needs_background": "light"
          }
        }
      ]
    },
    {
      "cell_type": "markdown",
      "source": [],
      "metadata": {
        "id": "FGVOu4moncTZ"
      }
    }
  ]
}